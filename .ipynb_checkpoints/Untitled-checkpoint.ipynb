{
 "cells": [
  {
   "cell_type": "code",
   "execution_count": 10,
   "metadata": {},
   "outputs": [
    {
     "name": "stdout",
     "output_type": "stream",
     "text": [
      "['Hello', ' World!']\n",
      "b'Hello, World!'\n"
     ]
    }
   ],
   "source": [
    "import random\n",
    "random.randrange(0,10)\n",
    "a = \"ERH\"\n",
    "a.lower()\n",
    "a = \"Hello, World!\"\n",
    "print(a.split(\",\"))\n",
    "print(a.encode())"
   ]
  },
  {
   "cell_type": "code",
   "execution_count": 13,
   "metadata": {},
   "outputs": [
    {
     "data": {
      "text/plain": [
       "array([0.33333333, 0.66666667, 1.        , 1.33333333])"
      ]
     },
     "execution_count": 13,
     "metadata": {},
     "output_type": "execute_result"
    }
   ],
   "source": [
    "import numpy as np\n",
    "abc = [1,2,3,4]\n",
    "\n",
    "e = np.array(abc)\n",
    "e/3"
   ]
  },
  {
   "cell_type": "code",
   "execution_count": 20,
   "metadata": {},
   "outputs": [
    {
     "name": "stdout",
     "output_type": "stream",
     "text": [
      "SHX30\n"
     ]
    },
    {
     "data": {
      "text/plain": [
       "0"
      ]
     },
     "execution_count": 20,
     "metadata": {},
     "output_type": "execute_result"
    }
   ],
   "source": [
    "class profile():\n",
    "    def __init__(self, name, age):\n",
    "        self.age = age\n",
    "        self.name = name\n",
    "        \n",
    "    def myname_age(self):\n",
    "        print(self.name + str(self.age))\n",
    "        return 0\n",
    "\n",
    "SHX = profile(\"SHX\", 30)\n",
    "\n",
    "SHX.myname_age()\n"
   ]
  }
 ],
 "metadata": {
  "kernelspec": {
   "display_name": "Python 3",
   "language": "python",
   "name": "python3"
  },
  "language_info": {
   "codemirror_mode": {
    "name": "ipython",
    "version": 3
   },
   "file_extension": ".py",
   "mimetype": "text/x-python",
   "name": "python",
   "nbconvert_exporter": "python",
   "pygments_lexer": "ipython3",
   "version": "3.7.3"
  }
 },
 "nbformat": 4,
 "nbformat_minor": 2
}
